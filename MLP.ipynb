{
 "cells": [
  {
   "cell_type": "code",
   "execution_count": 1,
   "metadata": {},
   "outputs": [],
   "source": [
    "import numpy as np"
   ]
  },
  {
   "cell_type": "code",
   "execution_count": null,
   "metadata": {},
   "outputs": [],
   "source": [
    "class MLP:\n",
    "    def __init__(self, input_size, hidden_size, output_size, learning_rate = 0.01):\n",
    "        self.input_size = input_size\n",
    "        self.hidden_size = hidden_size\n",
    "        self.output_size = output_size\n",
    "        self.learning_rate = learning_rate\n",
    "\n",
    "        #initialize weights randomly and biases to zero\n",
    "        self.weights1 = np.random.randn(input_size, hidden_size)\n",
    "        self.weights2 = np.random.randn(hidden_size, output_size)\n",
    "\n",
    "        self.bias1 = np.zeros((1, hidden_size))\n",
    "        self.bias2 = np.zeros((1, output_size))\n",
    "\n",
    "    def sigmoid(self, z):\n",
    "        return 1 / (1 + np.exp(-z))\n",
    "\n",
    "    def sigmoid_derivative(self, z):\n",
    "        s = self.sigmoid(z)\n",
    "        return s * (1 - s)\n",
    "\n",
    "    def train(self, X, y, epochs):\n",
    "        for epoch in range(epochs):\n",
    "            #forward pass\n",
    "            z1 = np.dot(X, self.weights1) + self.bias1\n",
    "            a1 = self.sigmoid(z1)\n",
    "            z2 = np.dot(a1, self.weights2) + self.bias2\n",
    "            a2 = self.sigmoid(z2)\n",
    "\n",
    "            #backpropagation\n",
    "            error = a2 - y\n",
    "            d_weights2 = np.dot(a1.T, error * self.sigmoid_derivative(z2))\n",
    "            d_bias2 = np.sum(error * self.sigmoid_derivative(z2), axis = 0, keepdims = True)\n",
    "            error_hidden = np.dot(error * self.sigmoid_derivative(z2), self.weights2.T)\n",
    "            d_weights1 = np.dot(X.T, error_hidden * self.sigmoid_derivative(z1))\n",
    "            d_bias1 = np.sum(error_hidden * self.sigmoid_derivative(z1), axis = 0, keepdims = True)\n",
    "\n",
    "            #update weights and biases\n",
    "            self.weights2 -= self.learning_rate * d_weights2\n",
    "            self.bias2 -= self.learning_rate * d_bias2\n",
    "            self.weights1 -= self.learning_rate * d_weights1\n",
    "            self.bias1 -= self.learning_rate * d_bias1\n",
    "\n",
    "    def predict(self, X):\n",
    "        z1 = np.dot(X, self.weights1) + self.bias1\n",
    "        a1 = self.sigmoid(z1)\n",
    "        z2 = np.dot(a1, self.weights2) + self.bias2\n",
    "        a2 = self.sigmoid(z2)\n",
    "        return a2\n",
    "\n",
    "    def evaluate(self, X, Y):\n",
    "        predictions = self.predict(X)\n",
    "        accuracy = np.sum(predictions == Y) / len(Y)\n",
    "        return accuracy"
   ]
  },
  {
   "cell_type": "code",
   "execution_count": 11,
   "metadata": {},
   "outputs": [],
   "source": [
    "#XOR example\n",
    "X = np.array([[0, 0], [0, 1], [1, 0], [1, 1]])\n",
    "y = np.array([[0], [1], [1], [0]])\n",
    "\n",
    "mlp = MLP(2, 2, 1)\n",
    "mlp.train(X, y, 10000)"
   ]
  },
  {
   "cell_type": "code",
   "execution_count": 13,
   "metadata": {},
   "outputs": [
    {
     "name": "stdout",
     "output_type": "stream",
     "text": [
      "Predictions: [[0.47593357]\n",
      " [0.50876159]\n",
      " [0.51421816]\n",
      " [0.52913294]]\n"
     ]
    }
   ],
   "source": [
    "# Test predictions\n",
    "print(\"Predictions:\", mlp.predict(X))\n",
    "#print(\"Accuracy:\", mlp.evaluate(X, y))"
   ]
  },
  {
   "cell_type": "code",
   "execution_count": null,
   "metadata": {},
   "outputs": [],
   "source": []
  }
 ],
 "metadata": {
  "kernelspec": {
   "display_name": "ml4s",
   "language": "python",
   "name": "python3"
  },
  "language_info": {
   "codemirror_mode": {
    "name": "ipython",
    "version": 3
   },
   "file_extension": ".py",
   "mimetype": "text/x-python",
   "name": "python",
   "nbconvert_exporter": "python",
   "pygments_lexer": "ipython3",
   "version": "3.12.3"
  }
 },
 "nbformat": 4,
 "nbformat_minor": 2
}
