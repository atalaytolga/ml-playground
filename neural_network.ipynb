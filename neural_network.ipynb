{
 "cells": [
  {
   "cell_type": "code",
   "execution_count": 1,
   "metadata": {},
   "outputs": [],
   "source": [
    "import numpy as np"
   ]
  },
  {
   "cell_type": "code",
   "execution_count": null,
   "metadata": {},
   "outputs": [],
   "source": [
    "class Perceptron():\n",
    "    def __init__(self, input_size, learning_rate = 0.01, epochs = 100):\n",
    "        self.weights = np.random.randn(input_size)\n",
    "        self.bias = np.random.randn(1)\n",
    "        self.learning_rate = learning_rate\n",
    "        self.epochs = epochs\n",
    "    \n",
    "    def activation(self, x):\n",
    "        return np.where(x >= 0, 1, 0)\n",
    "    \n",
    "    def predict(self, X):\n",
    "        linear_output = np.dot(X, self.weights) + self.bias  # X shape: (N, input_size), weights shape: (input_size,)\n",
    "\n",
    "        return self.activation(linear_output)  # Activation applied to each element\n",
    "    \n",
    "    def train(self, X, y):\n",
    "        for _ in range(self.epochs):\n",
    "            y_pred = self.predict(X)  # Get predictions for all samples\n",
    "            errors = y - y_pred  # Compute errors for all samples\n",
    "            self.weights += self.learning_rate * np.dot(errors, X)  # Update weights\n",
    "            self.bias += self.learning_rate * np.sum(errors)  # Update bias\n",
    "\n",
    "    def evaluate(self, X, Y):\n",
    "        predictions = self.predict(X)\n",
    "        accuracy = np.sum(predictions == Y) / len(Y)\n",
    "        return accuracy\n",
    "    \n"
   ]
  },
  {
   "cell_type": "code",
   "execution_count": 235,
   "metadata": {},
   "outputs": [
    {
     "name": "stdout",
     "output_type": "stream",
     "text": [
      "Predictions: [0 0 0 1]\n",
      "Accuracy: 1.0\n"
     ]
    }
   ],
   "source": [
    "# Define dataset (AND gate example)\n",
    "X = np.array([[0, 0], [0, 1], [1, 0], [1, 1]])  # Shape: (4,2)\n",
    "y = np.array([0, 0, 0, 1])  # AND logic\n",
    "\n",
    "# Initialize and train perceptron\n",
    "perceptron = Perceptron(input_size=2, learning_rate=0.1, epochs=10000)\n",
    "perceptron.train(X, y)\n",
    "\n",
    "# Test predictions\n",
    "print(\"Predictions:\", perceptron.predict(X))\n",
    "print(\"Accuracy:\", perceptron.evaluate(X, y))"
   ]
  }
 ],
 "metadata": {
  "kernelspec": {
   "display_name": "ml4s",
   "language": "python",
   "name": "python3"
  },
  "language_info": {
   "codemirror_mode": {
    "name": "ipython",
    "version": 3
   },
   "file_extension": ".py",
   "mimetype": "text/x-python",
   "name": "python",
   "nbconvert_exporter": "python",
   "pygments_lexer": "ipython3",
   "version": "3.12.3"
  }
 },
 "nbformat": 4,
 "nbformat_minor": 2
}
